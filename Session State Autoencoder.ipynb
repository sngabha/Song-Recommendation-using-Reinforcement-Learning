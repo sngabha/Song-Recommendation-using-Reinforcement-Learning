{
 "cells": [
  {
   "cell_type": "markdown",
   "metadata": {},
   "source": [
    "## Session State encoder using LSTM Autoencoder\n",
    "\n",
    "We used LSTM netural network to create an autoencoder that will reduce the dimension of session which contains last 5 played songs features and action between those songs (5x9 matrix) to a smaller vector of 1x9."
   ]
  },
  {
   "cell_type": "markdown",
   "metadata": {},
   "source": [
    "#### Importing necessary libraries for this notebook"
   ]
  },
  {
   "cell_type": "code",
   "execution_count": 1,
   "metadata": {},
   "outputs": [
    {
     "name": "stderr",
     "output_type": "stream",
     "text": [
      "Using TensorFlow backend.\n"
     ]
    }
   ],
   "source": [
    "import glob\n",
    "import pandas as pd\n",
    "import numpy as np\n",
    "from tqdm import tqdm\n",
    "from keras.layers import Input, Dense\n",
    "from keras.models import Model\n",
    "import matplotlib.pyplot as plt\n",
    "%matplotlib inline"
   ]
  },
  {
   "cell_type": "markdown",
   "metadata": {},
   "source": [
    "Loading the latent representation of each track from a csv."
   ]
  },
  {
   "cell_type": "code",
   "execution_count": 22,
   "metadata": {},
   "outputs": [
    {
     "data": {
      "text/html": [
       "<div>\n",
       "<style scoped>\n",
       "    .dataframe tbody tr th:only-of-type {\n",
       "        vertical-align: middle;\n",
       "    }\n",
       "\n",
       "    .dataframe tbody tr th {\n",
       "        vertical-align: top;\n",
       "    }\n",
       "\n",
       "    .dataframe thead th {\n",
       "        text-align: right;\n",
       "    }\n",
       "</style>\n",
       "<table border=\"1\" class=\"dataframe\">\n",
       "  <thead>\n",
       "    <tr style=\"text-align: right;\">\n",
       "      <th></th>\n",
       "      <th>track_id</th>\n",
       "      <th>0</th>\n",
       "      <th>1</th>\n",
       "      <th>2</th>\n",
       "      <th>3</th>\n",
       "      <th>4</th>\n",
       "      <th>5</th>\n",
       "      <th>6</th>\n",
       "      <th>7</th>\n",
       "    </tr>\n",
       "  </thead>\n",
       "  <tbody>\n",
       "    <tr>\n",
       "      <th>0</th>\n",
       "      <td>t_f9b9a072-8dae-4816-bfd6-d91fc75a5744</td>\n",
       "      <td>0.085536</td>\n",
       "      <td>0.023943</td>\n",
       "      <td>0.125375</td>\n",
       "      <td>-0.145933</td>\n",
       "      <td>0.449010</td>\n",
       "      <td>-0.106019</td>\n",
       "      <td>-0.190885</td>\n",
       "      <td>0.282416</td>\n",
       "    </tr>\n",
       "    <tr>\n",
       "      <th>1</th>\n",
       "      <td>t_7f435320-5d3b-497d-9346-0c97429af2b9</td>\n",
       "      <td>0.152102</td>\n",
       "      <td>-0.118725</td>\n",
       "      <td>-0.168167</td>\n",
       "      <td>0.291125</td>\n",
       "      <td>0.540807</td>\n",
       "      <td>0.042686</td>\n",
       "      <td>-0.288468</td>\n",
       "      <td>0.130090</td>\n",
       "    </tr>\n",
       "    <tr>\n",
       "      <th>2</th>\n",
       "      <td>t_949441c4-4920-4eed-b929-2d67d37b7bd9</td>\n",
       "      <td>0.056647</td>\n",
       "      <td>-0.077121</td>\n",
       "      <td>0.052887</td>\n",
       "      <td>-0.076303</td>\n",
       "      <td>0.644329</td>\n",
       "      <td>-0.148826</td>\n",
       "      <td>-0.292301</td>\n",
       "      <td>0.208705</td>\n",
       "    </tr>\n",
       "    <tr>\n",
       "      <th>3</th>\n",
       "      <td>t_63eae5ac-744a-46ee-b719-0db8e70d6f7f</td>\n",
       "      <td>0.120041</td>\n",
       "      <td>-0.071038</td>\n",
       "      <td>-0.012514</td>\n",
       "      <td>-0.061835</td>\n",
       "      <td>0.621581</td>\n",
       "      <td>-0.082328</td>\n",
       "      <td>-0.210929</td>\n",
       "      <td>0.185848</td>\n",
       "    </tr>\n",
       "    <tr>\n",
       "      <th>4</th>\n",
       "      <td>t_3c2c29b5-c738-42c0-83e1-ee0e88ac834d</td>\n",
       "      <td>0.075071</td>\n",
       "      <td>0.094992</td>\n",
       "      <td>0.372702</td>\n",
       "      <td>0.001345</td>\n",
       "      <td>0.534761</td>\n",
       "      <td>-0.017185</td>\n",
       "      <td>-0.420036</td>\n",
       "      <td>0.035725</td>\n",
       "    </tr>\n",
       "  </tbody>\n",
       "</table>\n",
       "</div>"
      ],
      "text/plain": [
       "                                 track_id         0         1         2  \\\n",
       "0  t_f9b9a072-8dae-4816-bfd6-d91fc75a5744  0.085536  0.023943  0.125375   \n",
       "1  t_7f435320-5d3b-497d-9346-0c97429af2b9  0.152102 -0.118725 -0.168167   \n",
       "2  t_949441c4-4920-4eed-b929-2d67d37b7bd9  0.056647 -0.077121  0.052887   \n",
       "3  t_63eae5ac-744a-46ee-b719-0db8e70d6f7f  0.120041 -0.071038 -0.012514   \n",
       "4  t_3c2c29b5-c738-42c0-83e1-ee0e88ac834d  0.075071  0.094992  0.372702   \n",
       "\n",
       "          3         4         5         6         7  \n",
       "0 -0.145933  0.449010 -0.106019 -0.190885  0.282416  \n",
       "1  0.291125  0.540807  0.042686 -0.288468  0.130090  \n",
       "2 -0.076303  0.644329 -0.148826 -0.292301  0.208705  \n",
       "3 -0.061835  0.621581 -0.082328 -0.210929  0.185848  \n",
       "4  0.001345  0.534761 -0.017185 -0.420036  0.035725  "
      ]
     },
     "execution_count": 22,
     "metadata": {},
     "output_type": "execute_result"
    }
   ],
   "source": [
    "latent_track_features_df = pd.read_csv(\"latent_track_features.csv\");\n",
    "latent_track_features_df.head()"
   ]
  },
  {
   "cell_type": "markdown",
   "metadata": {},
   "source": [
    "Converting it into a dictionary for easy lookup."
   ]
  },
  {
   "cell_type": "code",
   "execution_count": 24,
   "metadata": {},
   "outputs": [],
   "source": [
    "latent_track_features_dict = latent_track_features_df.set_index('track_id').T.to_dict('list')"
   ]
  },
  {
   "cell_type": "markdown",
   "metadata": {},
   "source": [
    "Reading session data from session_track_reward_data.csv created during sampling process."
   ]
  },
  {
   "cell_type": "code",
   "execution_count": 26,
   "metadata": {},
   "outputs": [
    {
     "data": {
      "text/html": [
       "<div>\n",
       "<style scoped>\n",
       "    .dataframe tbody tr th:only-of-type {\n",
       "        vertical-align: middle;\n",
       "    }\n",
       "\n",
       "    .dataframe tbody tr th {\n",
       "        vertical-align: top;\n",
       "    }\n",
       "\n",
       "    .dataframe thead th {\n",
       "        text-align: right;\n",
       "    }\n",
       "</style>\n",
       "<table border=\"1\" class=\"dataframe\">\n",
       "  <thead>\n",
       "    <tr style=\"text-align: right;\">\n",
       "      <th></th>\n",
       "      <th>session_id</th>\n",
       "      <th>0</th>\n",
       "      <th>1</th>\n",
       "      <th>2</th>\n",
       "      <th>3</th>\n",
       "      <th>4</th>\n",
       "      <th>5</th>\n",
       "      <th>6</th>\n",
       "      <th>7</th>\n",
       "      <th>8</th>\n",
       "      <th>...</th>\n",
       "      <th>30</th>\n",
       "      <th>31</th>\n",
       "      <th>32</th>\n",
       "      <th>33</th>\n",
       "      <th>34</th>\n",
       "      <th>35</th>\n",
       "      <th>36</th>\n",
       "      <th>37</th>\n",
       "      <th>38</th>\n",
       "      <th>39</th>\n",
       "    </tr>\n",
       "  </thead>\n",
       "  <tbody>\n",
       "    <tr>\n",
       "      <th>0</th>\n",
       "      <td>53_0068dc30-11ee-4417-b045-396c627ef013</td>\n",
       "      <td>t_6131a810-b1c3-4be9-92c9-54105e775151</td>\n",
       "      <td>1</td>\n",
       "      <td>t_309812b2-11d2-47ed-90fb-c0dbf25b0866</td>\n",
       "      <td>1</td>\n",
       "      <td>t_34871798-7470-4bf7-85a4-e0c8e277a2d3</td>\n",
       "      <td>1</td>\n",
       "      <td>t_2c06c4b3-f2a4-4ccc-b673-b9943aa7e1e3</td>\n",
       "      <td>0</td>\n",
       "      <td>t_94e173bf-9244-4c4b-b9a8-2a735a3d6ccf</td>\n",
       "      <td>...</td>\n",
       "      <td>t_7c13b9d7-39b7-48e0-828f-6c920ac6535f</td>\n",
       "      <td>1</td>\n",
       "      <td>t_17ee7a20-975e-4785-8e31-10d0da37457b</td>\n",
       "      <td>0</td>\n",
       "      <td>t_6e6b433c-59da-49bc-9bdf-ddc122928277</td>\n",
       "      <td>1</td>\n",
       "      <td>t_6e6b433c-59da-49bc-9bdf-ddc122928277</td>\n",
       "      <td>0</td>\n",
       "      <td>t_309812b2-11d2-47ed-90fb-c0dbf25b0866</td>\n",
       "      <td>0</td>\n",
       "    </tr>\n",
       "    <tr>\n",
       "      <th>1</th>\n",
       "      <td>53_006d0a57-11b2-42dd-98b6-625bb28283f6</td>\n",
       "      <td>t_8c1a8a18-7181-4364-bca4-94b97e5dc2d8</td>\n",
       "      <td>0</td>\n",
       "      <td>t_665cc6c4-7745-47bc-bb65-11eeb33e1ecc</td>\n",
       "      <td>0</td>\n",
       "      <td>t_a646aa9c-0c00-45a5-aa53-cb428e171251</td>\n",
       "      <td>1</td>\n",
       "      <td>t_69ef057b-3e0c-469e-a71a-4e348f6b6aed</td>\n",
       "      <td>0</td>\n",
       "      <td>t_2d9aef46-0e33-479f-ace4-019793ad5ea5</td>\n",
       "      <td>...</td>\n",
       "      <td>t_33831664-66b6-4590-9939-052d3c8c4b11</td>\n",
       "      <td>0</td>\n",
       "      <td>t_13ceba8d-4d30-44c7-a80d-9f75adca2432</td>\n",
       "      <td>0</td>\n",
       "      <td>t_6966e4af-fbdc-4e95-ab49-6af31c95f37a</td>\n",
       "      <td>0</td>\n",
       "      <td>t_26eff975-cb7e-4507-a3b6-278b526584bc</td>\n",
       "      <td>0</td>\n",
       "      <td>t_68613f0d-1617-4bd6-aacb-372a79ddd770</td>\n",
       "      <td>1</td>\n",
       "    </tr>\n",
       "    <tr>\n",
       "      <th>2</th>\n",
       "      <td>53_038a6aaa-7d85-4bab-bd25-2f69a3eb12b6</td>\n",
       "      <td>t_6838642c-b80e-4b0b-b18f-5389fb74d00f</td>\n",
       "      <td>0</td>\n",
       "      <td>t_d1f175e8-a157-411c-9447-d48615e71ed0</td>\n",
       "      <td>0</td>\n",
       "      <td>t_da1fef49-47b5-4236-842a-36347cb78460</td>\n",
       "      <td>0</td>\n",
       "      <td>t_e000b439-a7e6-4e85-84b7-4e3d54742d60</td>\n",
       "      <td>0</td>\n",
       "      <td>t_d55fd565-fe40-4442-b8f0-393e9222d23e</td>\n",
       "      <td>...</td>\n",
       "      <td>t_88e8671d-e6ee-48dc-b610-6d1cad2657cf</td>\n",
       "      <td>1</td>\n",
       "      <td>t_b7954b03-6717-42f4-a00d-fcaa26ac7f90</td>\n",
       "      <td>1</td>\n",
       "      <td>t_0337a921-6153-4c8b-8c27-679a3796dfc8</td>\n",
       "      <td>1</td>\n",
       "      <td>t_93cccc0a-8dcb-4697-b501-dc9056309abc</td>\n",
       "      <td>1</td>\n",
       "      <td>t_bf81cf32-8335-457d-a867-5fbaca8d56b9</td>\n",
       "      <td>1</td>\n",
       "    </tr>\n",
       "    <tr>\n",
       "      <th>3</th>\n",
       "      <td>53_040eeedd-a7ce-4229-a1c0-17e510ea9f76</td>\n",
       "      <td>t_d9b73bdb-eecf-4c8c-9f85-c2bd3bab8d33</td>\n",
       "      <td>0</td>\n",
       "      <td>t_4c316d3c-ab2e-4943-b0cd-c59a0c7480b4</td>\n",
       "      <td>0</td>\n",
       "      <td>t_d9b73bdb-eecf-4c8c-9f85-c2bd3bab8d33</td>\n",
       "      <td>0</td>\n",
       "      <td>t_59647f23-dd08-45d1-8eeb-03fdd9c1b718</td>\n",
       "      <td>0</td>\n",
       "      <td>t_ad62139c-561c-47d9-9481-744b570d74e7</td>\n",
       "      <td>...</td>\n",
       "      <td>t_d1f58de5-01c0-4bda-962c-62fed400e2f4</td>\n",
       "      <td>0</td>\n",
       "      <td>t_18b618d9-ad3e-4d24-8e6e-8e3c2c502ded</td>\n",
       "      <td>0</td>\n",
       "      <td>t_0db93ef0-06e8-460a-852a-9cf2752ae224</td>\n",
       "      <td>1</td>\n",
       "      <td>t_675dd421-0c06-4914-8beb-329eff278481</td>\n",
       "      <td>0</td>\n",
       "      <td>t_ac6deb7f-8a35-4db3-840f-4f06a7a1aab0</td>\n",
       "      <td>1</td>\n",
       "    </tr>\n",
       "    <tr>\n",
       "      <th>4</th>\n",
       "      <td>53_0546a593-43e6-4139-af76-bfd03c6da8fa</td>\n",
       "      <td>t_66c7eb2a-fa7e-4c56-ad55-3ee477cba71e</td>\n",
       "      <td>0</td>\n",
       "      <td>t_5704cdc3-c455-440c-868c-6a880b4c4476</td>\n",
       "      <td>0</td>\n",
       "      <td>t_6c743c12-884b-4164-b80b-895c17e700f9</td>\n",
       "      <td>1</td>\n",
       "      <td>t_3d0626fc-bf86-45e0-a61d-c49250b52771</td>\n",
       "      <td>1</td>\n",
       "      <td>t_0ba77058-5e81-4696-9bd4-c21cff3f3e82</td>\n",
       "      <td>...</td>\n",
       "      <td>t_b3c6727e-3253-4c10-a6d2-a3227f6bdc74</td>\n",
       "      <td>1</td>\n",
       "      <td>t_9d410287-c57c-4513-af4b-c0f0ea046889</td>\n",
       "      <td>1</td>\n",
       "      <td>t_8223208a-2bbf-4433-8a8c-9b8b7be92ade</td>\n",
       "      <td>1</td>\n",
       "      <td>t_01b5c742-7e2f-402f-9f54-1b4f6c04af95</td>\n",
       "      <td>1</td>\n",
       "      <td>t_821c2943-624e-4ba3-ace1-360a4c4b6e35</td>\n",
       "      <td>1</td>\n",
       "    </tr>\n",
       "  </tbody>\n",
       "</table>\n",
       "<p>5 rows × 41 columns</p>\n",
       "</div>"
      ],
      "text/plain": [
       "                                session_id  \\\n",
       "0  53_0068dc30-11ee-4417-b045-396c627ef013   \n",
       "1  53_006d0a57-11b2-42dd-98b6-625bb28283f6   \n",
       "2  53_038a6aaa-7d85-4bab-bd25-2f69a3eb12b6   \n",
       "3  53_040eeedd-a7ce-4229-a1c0-17e510ea9f76   \n",
       "4  53_0546a593-43e6-4139-af76-bfd03c6da8fa   \n",
       "\n",
       "                                        0  1  \\\n",
       "0  t_6131a810-b1c3-4be9-92c9-54105e775151  1   \n",
       "1  t_8c1a8a18-7181-4364-bca4-94b97e5dc2d8  0   \n",
       "2  t_6838642c-b80e-4b0b-b18f-5389fb74d00f  0   \n",
       "3  t_d9b73bdb-eecf-4c8c-9f85-c2bd3bab8d33  0   \n",
       "4  t_66c7eb2a-fa7e-4c56-ad55-3ee477cba71e  0   \n",
       "\n",
       "                                        2  3  \\\n",
       "0  t_309812b2-11d2-47ed-90fb-c0dbf25b0866  1   \n",
       "1  t_665cc6c4-7745-47bc-bb65-11eeb33e1ecc  0   \n",
       "2  t_d1f175e8-a157-411c-9447-d48615e71ed0  0   \n",
       "3  t_4c316d3c-ab2e-4943-b0cd-c59a0c7480b4  0   \n",
       "4  t_5704cdc3-c455-440c-868c-6a880b4c4476  0   \n",
       "\n",
       "                                        4  5  \\\n",
       "0  t_34871798-7470-4bf7-85a4-e0c8e277a2d3  1   \n",
       "1  t_a646aa9c-0c00-45a5-aa53-cb428e171251  1   \n",
       "2  t_da1fef49-47b5-4236-842a-36347cb78460  0   \n",
       "3  t_d9b73bdb-eecf-4c8c-9f85-c2bd3bab8d33  0   \n",
       "4  t_6c743c12-884b-4164-b80b-895c17e700f9  1   \n",
       "\n",
       "                                        6  7  \\\n",
       "0  t_2c06c4b3-f2a4-4ccc-b673-b9943aa7e1e3  0   \n",
       "1  t_69ef057b-3e0c-469e-a71a-4e348f6b6aed  0   \n",
       "2  t_e000b439-a7e6-4e85-84b7-4e3d54742d60  0   \n",
       "3  t_59647f23-dd08-45d1-8eeb-03fdd9c1b718  0   \n",
       "4  t_3d0626fc-bf86-45e0-a61d-c49250b52771  1   \n",
       "\n",
       "                                        8  ...  \\\n",
       "0  t_94e173bf-9244-4c4b-b9a8-2a735a3d6ccf  ...   \n",
       "1  t_2d9aef46-0e33-479f-ace4-019793ad5ea5  ...   \n",
       "2  t_d55fd565-fe40-4442-b8f0-393e9222d23e  ...   \n",
       "3  t_ad62139c-561c-47d9-9481-744b570d74e7  ...   \n",
       "4  t_0ba77058-5e81-4696-9bd4-c21cff3f3e82  ...   \n",
       "\n",
       "                                       30 31  \\\n",
       "0  t_7c13b9d7-39b7-48e0-828f-6c920ac6535f  1   \n",
       "1  t_33831664-66b6-4590-9939-052d3c8c4b11  0   \n",
       "2  t_88e8671d-e6ee-48dc-b610-6d1cad2657cf  1   \n",
       "3  t_d1f58de5-01c0-4bda-962c-62fed400e2f4  0   \n",
       "4  t_b3c6727e-3253-4c10-a6d2-a3227f6bdc74  1   \n",
       "\n",
       "                                       32 33  \\\n",
       "0  t_17ee7a20-975e-4785-8e31-10d0da37457b  0   \n",
       "1  t_13ceba8d-4d30-44c7-a80d-9f75adca2432  0   \n",
       "2  t_b7954b03-6717-42f4-a00d-fcaa26ac7f90  1   \n",
       "3  t_18b618d9-ad3e-4d24-8e6e-8e3c2c502ded  0   \n",
       "4  t_9d410287-c57c-4513-af4b-c0f0ea046889  1   \n",
       "\n",
       "                                       34 35  \\\n",
       "0  t_6e6b433c-59da-49bc-9bdf-ddc122928277  1   \n",
       "1  t_6966e4af-fbdc-4e95-ab49-6af31c95f37a  0   \n",
       "2  t_0337a921-6153-4c8b-8c27-679a3796dfc8  1   \n",
       "3  t_0db93ef0-06e8-460a-852a-9cf2752ae224  1   \n",
       "4  t_8223208a-2bbf-4433-8a8c-9b8b7be92ade  1   \n",
       "\n",
       "                                       36 37  \\\n",
       "0  t_6e6b433c-59da-49bc-9bdf-ddc122928277  0   \n",
       "1  t_26eff975-cb7e-4507-a3b6-278b526584bc  0   \n",
       "2  t_93cccc0a-8dcb-4697-b501-dc9056309abc  1   \n",
       "3  t_675dd421-0c06-4914-8beb-329eff278481  0   \n",
       "4  t_01b5c742-7e2f-402f-9f54-1b4f6c04af95  1   \n",
       "\n",
       "                                       38 39  \n",
       "0  t_309812b2-11d2-47ed-90fb-c0dbf25b0866  0  \n",
       "1  t_68613f0d-1617-4bd6-aacb-372a79ddd770  1  \n",
       "2  t_bf81cf32-8335-457d-a867-5fbaca8d56b9  1  \n",
       "3  t_ac6deb7f-8a35-4db3-840f-4f06a7a1aab0  1  \n",
       "4  t_821c2943-624e-4ba3-ace1-360a4c4b6e35  1  \n",
       "\n",
       "[5 rows x 41 columns]"
      ]
     },
     "execution_count": 26,
     "metadata": {},
     "output_type": "execute_result"
    }
   ],
   "source": [
    "session_df = pd.read_csv(\"session_track_reward_data.csv\");\n",
    "session_df.head()"
   ]
  },
  {
   "cell_type": "code",
   "execution_count": 45,
   "metadata": {},
   "outputs": [],
   "source": [
    "session_dict = session_df.set_index('session_id').T.to_dict('list')"
   ]
  },
  {
   "cell_type": "markdown",
   "metadata": {},
   "source": [
    "Below function creates a matrix representation of a state in a session. A state holds the information of last 5 songs played along with the action between songs. So, this function takes input as last 5 songs and actions, and return a 5x9 matrix that represents that state."
   ]
  },
  {
   "cell_type": "code",
   "execution_count": 72,
   "metadata": {},
   "outputs": [],
   "source": [
    "def construct_state(track_and_reward_list):\n",
    "    state_matrix = []\n",
    "    for i in range(5):\n",
    "        latent_track = latent_track_features_dict[track_and_reward_list[2*i]].copy()\n",
    "        latent_track.append(track_and_reward_list[2*i + 1])\n",
    "        state_matrix.append(latent_track)\n",
    "    np_state_matrix = np.array(state_matrix)\n",
    "    return np_state_matrix"
   ]
  },
  {
   "cell_type": "code",
   "execution_count": 73,
   "metadata": {},
   "outputs": [],
   "source": [
    "state_list = []\n",
    "for session_id in session_dict:\n",
    "    track_and_reward_list = session_dict[session_id]\n",
    "    for i in range(15):\n",
    "        state = construct_state(track_and_reward_list[2*i:2*i + 10])\n",
    "        state_list.append(state)"
   ]
  },
  {
   "cell_type": "code",
   "execution_count": 74,
   "metadata": {},
   "outputs": [
    {
     "data": {
      "text/plain": [
       "1494900"
      ]
     },
     "execution_count": 74,
     "metadata": {},
     "output_type": "execute_result"
    }
   ],
   "source": [
    "len(state_list)"
   ]
  },
  {
   "cell_type": "code",
   "execution_count": 75,
   "metadata": {},
   "outputs": [
    {
     "data": {
      "text/plain": [
       "99660"
      ]
     },
     "execution_count": 75,
     "metadata": {},
     "output_type": "execute_result"
    }
   ],
   "source": [
    "len(session_dict)"
   ]
  },
  {
   "cell_type": "markdown",
   "metadata": {},
   "source": [
    "## LSTM Autoencoder\n",
    "\n",
    "We used LSTM autoencoder because the data is sequential."
   ]
  },
  {
   "cell_type": "markdown",
   "metadata": {},
   "source": [
    "from keras.models import Sequential\n",
    "from keras.layers import LSTM\n",
    "from keras.layers import Dense\n",
    "from keras.layers import RepeatVector\n",
    "from keras.layers import TimeDistributed"
   ]
  },
  {
   "cell_type": "code",
   "execution_count": 77,
   "metadata": {},
   "outputs": [],
   "source": [
    "np_state_list = np.array(state_list)"
   ]
  },
  {
   "cell_type": "code",
   "execution_count": 95,
   "metadata": {},
   "outputs": [
    {
     "name": "stdout",
     "output_type": "stream",
     "text": [
      "(1494900, 5, 9)\n"
     ]
    }
   ],
   "source": [
    "print(np_state_list.shape)\n",
    "timesteps = np_state_list.shape[1]\n",
    "n_features = np_state_list.shape[2]"
   ]
  },
  {
   "cell_type": "code",
   "execution_count": 110,
   "metadata": {},
   "outputs": [
    {
     "name": "stdout",
     "output_type": "stream",
     "text": [
      "Model: \"sequential_7\"\n",
      "_________________________________________________________________\n",
      "Layer (type)                 Output Shape              Param #   \n",
      "=================================================================\n",
      "lstm_17 (LSTM)               (None, 5, 18)             2016      \n",
      "_________________________________________________________________\n",
      "lstm_18 (LSTM)               (None, 9)                 1008      \n",
      "_________________________________________________________________\n",
      "repeat_vector_7 (RepeatVecto (None, 5, 9)              0         \n",
      "_________________________________________________________________\n",
      "lstm_19 (LSTM)               (None, 5, 9)              684       \n",
      "_________________________________________________________________\n",
      "lstm_20 (LSTM)               (None, 5, 18)             2016      \n",
      "_________________________________________________________________\n",
      "time_distributed_7 (TimeDist (None, 5, 9)              171       \n",
      "=================================================================\n",
      "Total params: 5,895\n",
      "Trainable params: 5,895\n",
      "Non-trainable params: 0\n",
      "_________________________________________________________________\n"
     ]
    }
   ],
   "source": [
    "model = Sequential()\n",
    "model.add(LSTM(18, activation='tanh', input_shape=(timesteps, n_features), return_sequences=True))\n",
    "model.add(LSTM(9, activation='tanh', return_sequences=False))\n",
    "model.add(RepeatVector(timesteps))\n",
    "model.add(LSTM(9, activation='tanh', return_sequences=True))\n",
    "model.add(LSTM(18, activation='tanh', return_sequences=True))\n",
    "model.add(TimeDistributed(Dense(n_features)))\n",
    "model.compile(optimizer='adam', loss='mse')\n",
    "model.summary()"
   ]
  },
  {
   "cell_type": "code",
   "execution_count": 111,
   "metadata": {},
   "outputs": [
    {
     "name": "stdout",
     "output_type": "stream",
     "text": [
      "Epoch 1/50\n",
      "1494900/1494900 [==============================] - 128s 86us/step - loss: 0.0103\n",
      "Epoch 2/50\n",
      "1494900/1494900 [==============================] - 129s 86us/step - loss: 0.0068\n",
      "Epoch 3/50\n",
      "1494900/1494900 [==============================] - 125s 83us/step - loss: 0.0059\n",
      "Epoch 4/50\n",
      "1494900/1494900 [==============================] - 119s 80us/step - loss: 0.0056\n",
      "Epoch 5/50\n",
      "1494900/1494900 [==============================] - 119s 79us/step - loss: 0.0054\n",
      "Epoch 6/50\n",
      "1494900/1494900 [==============================] - 120s 80us/step - loss: 0.0053\n",
      "Epoch 7/50\n",
      "1494900/1494900 [==============================] - 120s 80us/step - loss: 0.0051\n",
      "Epoch 8/50\n",
      "1494900/1494900 [==============================] - 119s 80us/step - loss: 0.0049\n",
      "Epoch 9/50\n",
      "1494900/1494900 [==============================] - 120s 80us/step - loss: 0.0048\n",
      "Epoch 10/50\n",
      "1494900/1494900 [==============================] - 120s 81us/step - loss: 0.0047\n",
      "Epoch 11/50\n",
      "1494900/1494900 [==============================] - 119s 80us/step - loss: 0.0046\n",
      "Epoch 12/50\n",
      "1494900/1494900 [==============================] - 120s 80us/step - loss: 0.0046\n",
      "Epoch 13/50\n",
      "1494900/1494900 [==============================] - 151s 101us/step - loss: 0.0045\n",
      "Epoch 14/50\n",
      "1494900/1494900 [==============================] - 148s 99us/step - loss: 0.0044\n",
      "Epoch 15/50\n",
      "1494900/1494900 [==============================] - 138s 93us/step - loss: 0.0044\n",
      "Epoch 16/50\n",
      "1494900/1494900 [==============================] - 132s 89us/step - loss: 0.0043\n",
      "Epoch 17/50\n",
      "1494900/1494900 [==============================] - 137s 91us/step - loss: 0.0043\n",
      "Epoch 18/50\n",
      "1494900/1494900 [==============================] - 136s 91us/step - loss: 0.0043\n",
      "Epoch 19/50\n",
      "1494900/1494900 [==============================] - 135s 90us/step - loss: 0.0042\n",
      "Epoch 20/50\n",
      "1494900/1494900 [==============================] - 135s 90us/step - loss: 0.0042\n",
      "Epoch 21/50\n",
      "1494900/1494900 [==============================] - 136s 91us/step - loss: 0.0042\n",
      "Epoch 22/50\n",
      "1494900/1494900 [==============================] - 132s 88us/step - loss: 0.0041\n",
      "Epoch 23/50\n",
      "1494900/1494900 [==============================] - 142s 95us/step - loss: 0.0041\n",
      "Epoch 24/50\n",
      "1494900/1494900 [==============================] - 136s 91us/step - loss: 0.0041\n",
      "Epoch 25/50\n",
      "1494900/1494900 [==============================] - 136s 91us/step - loss: 0.0040\n",
      "Epoch 26/50\n",
      "1494900/1494900 [==============================] - 140s 93us/step - loss: 0.0040\n",
      "Epoch 27/50\n",
      "1494900/1494900 [==============================] - 135s 90us/step - loss: 0.0040\n",
      "Epoch 28/50\n",
      "1494900/1494900 [==============================] - 138s 93us/step - loss: 0.0039\n",
      "Epoch 29/50\n",
      "1494900/1494900 [==============================] - 135s 91us/step - loss: 0.0039\n",
      "Epoch 30/50\n",
      "1494900/1494900 [==============================] - 136s 91us/step - loss: 0.0039\n",
      "Epoch 31/50\n",
      "1494900/1494900 [==============================] - 135s 90us/step - loss: 0.0039\n",
      "Epoch 32/50\n",
      "1494900/1494900 [==============================] - 140s 94us/step - loss: 0.0039\n",
      "Epoch 33/50\n",
      "1494900/1494900 [==============================] - 134s 90us/step - loss: 0.0038\n",
      "Epoch 34/50\n",
      "1494900/1494900 [==============================] - 132s 88us/step - loss: 0.0038\n",
      "Epoch 35/50\n",
      "1494900/1494900 [==============================] - 127s 85us/step - loss: 0.0038\n",
      "Epoch 36/50\n",
      "1494900/1494900 [==============================] - 128s 86us/step - loss: 0.0038\n",
      "Epoch 37/50\n",
      "1494900/1494900 [==============================] - 132s 88us/step - loss: 0.0038\n",
      "Epoch 38/50\n",
      "1494900/1494900 [==============================] - 123s 82us/step - loss: 0.0037\n",
      "Epoch 39/50\n",
      "1494900/1494900 [==============================] - 124s 83us/step - loss: 0.0037\n",
      "Epoch 40/50\n",
      "1494900/1494900 [==============================] - 120s 81us/step - loss: 0.0037\n",
      "Epoch 41/50\n",
      "1494900/1494900 [==============================] - 121s 81us/step - loss: 0.0037\n",
      "Epoch 42/50\n",
      "1494900/1494900 [==============================] - 120s 81us/step - loss: 0.0037\n",
      "Epoch 43/50\n",
      "1494900/1494900 [==============================] - 129s 86us/step - loss: 0.0037\n",
      "Epoch 44/50\n",
      "1494900/1494900 [==============================] - 119s 80us/step - loss: 0.0037\n",
      "Epoch 45/50\n",
      "1494900/1494900 [==============================] - 127s 85us/step - loss: 0.0036\n",
      "Epoch 46/50\n",
      "1494900/1494900 [==============================] - 140s 94us/step - loss: 0.0036\n",
      "Epoch 47/50\n",
      "1494900/1494900 [==============================] - 125s 83us/step - loss: 0.0036\n",
      "Epoch 48/50\n",
      "1494900/1494900 [==============================] - 128s 86us/step - loss: 0.0036\n",
      "Epoch 49/50\n",
      "1494900/1494900 [==============================] - 131s 88us/step - loss: 0.0036\n",
      "Epoch 50/50\n",
      "1494900/1494900 [==============================] - 128s 85us/step - loss: 0.0036\n"
     ]
    },
    {
     "data": {
      "text/plain": [
       "<keras.callbacks.callbacks.History at 0x692145f98>"
      ]
     },
     "execution_count": 111,
     "metadata": {},
     "output_type": "execute_result"
    }
   ],
   "source": [
    "# fit model\n",
    "model.fit(np_state_list, np_state_list, epochs = 50, batch_size = 128, use_multiprocessing = True)"
   ]
  },
  {
   "cell_type": "code",
   "execution_count": 112,
   "metadata": {},
   "outputs": [],
   "source": [
    "encoder = Model(inputs=model.inputs, outputs=model.layers[1].output)"
   ]
  },
  {
   "cell_type": "code",
   "execution_count": 113,
   "metadata": {},
   "outputs": [],
   "source": [
    "import pickle\n",
    "pickle.dump(encoder, open('pickle/session_state_encoder.sav', 'wb'))"
   ]
  }
 ],
 "metadata": {
  "kernelspec": {
   "display_name": "Python 3",
   "language": "python",
   "name": "python3"
  },
  "language_info": {
   "codemirror_mode": {
    "name": "ipython",
    "version": 3
   },
   "file_extension": ".py",
   "mimetype": "text/x-python",
   "name": "python",
   "nbconvert_exporter": "python",
   "pygments_lexer": "ipython3",
   "version": "3.7.3"
  }
 },
 "nbformat": 4,
 "nbformat_minor": 2
}
